{
  "nbformat": 4,
  "nbformat_minor": 0,
  "metadata": {
    "colab": {
      "provenance": []
    },
    "kernelspec": {
      "name": "python3",
      "display_name": "Python 3"
    },
    "language_info": {
      "name": "python"
    }
  },
  "cells": [
    {
      "cell_type": "markdown",
      "source": [
        "**1. Data Collection and Preprocessing**"
      ],
      "metadata": {
        "id": "bJgCfPvzt4dA"
      }
    },
    {
      "cell_type": "code",
      "execution_count": 6,
      "metadata": {
        "id": "LwNYj59ntWHQ"
      },
      "outputs": [],
      "source": [
        "# Importing necessary libraries\n",
        "\n",
        "import pandas as pd\n",
        "import numpy as np\n",
        "import matplotlib.pyplot as plt\n",
        "import seaborn as sns\n",
        "import re\n",
        "import nltk\n",
        "import joblib\n",
        "\n",
        "from sklearn.feature_extraction.text import TfidfVectorizer\n",
        "from sklearn.model_selection import train_test_split\n",
        "from sklearn.linear_model import LogisticRegression\n",
        "from sklearn.naive_bayes import MultinomialNB\n",
        "from sklearn.svm import LinearSVC\n",
        "from sklearn.metrics import classification_report, confusion_matrix"
      ]
    },
    {
      "cell_type": "code",
      "source": [
        "# Load the data\n",
        "\n",
        "df = pd.read_csv('/content/data_news - data_news.csv')\n",
        "\n",
        "#display the data\n",
        "\n",
        "print(df.head())\n",
        "print(df.info())\n",
        "print(\"shape:\",df.shape)\n",
        "\n",
        "\n",
        "#checing any null values\n",
        "\n",
        "print(\"\\nNull values\",df.isnull().sum() )"
      ],
      "metadata": {
        "colab": {
          "base_uri": "https://localhost:8080/",
          "height": 0
        },
        "id": "1IiAnUqmu5kv",
        "outputId": "81421cef-669c-40af-a229-750b74dd08b4"
      },
      "execution_count": 7,
      "outputs": [
        {
          "output_type": "stream",
          "name": "stdout",
          "text": [
            "   category                                           headline  \\\n",
            "0  WELLNESS              143 Miles in 35 Days: Lessons Learned   \n",
            "1  WELLNESS       Talking to Yourself: Crazy or Crazy Helpful?   \n",
            "2  WELLNESS  Crenezumab: Trial Will Gauge Whether Alzheimer...   \n",
            "3  WELLNESS                     Oh, What a Difference She Made   \n",
            "4  WELLNESS                                   Green Superfoods   \n",
            "\n",
            "                                               links  \\\n",
            "0  https://www.huffingtonpost.com/entry/running-l...   \n",
            "1  https://www.huffingtonpost.com/entry/talking-t...   \n",
            "2  https://www.huffingtonpost.com/entry/crenezuma...   \n",
            "3  https://www.huffingtonpost.com/entry/meaningfu...   \n",
            "4  https://www.huffingtonpost.com/entry/green-sup...   \n",
            "\n",
            "                                   short_description  \\\n",
            "0  Resting is part of training. I've confirmed wh...   \n",
            "1  Think of talking to yourself as a tool to coac...   \n",
            "2  The clock is ticking for the United States to ...   \n",
            "3  If you want to be busy, keep trying to be perf...   \n",
            "4  First, the bad news: Soda bread, corned beef a...   \n",
            "\n",
            "                             keywords  \n",
            "0                     running-lessons  \n",
            "1           talking-to-yourself-crazy  \n",
            "2  crenezumab-alzheimers-disease-drug  \n",
            "3                     meaningful-life  \n",
            "4                    green-superfoods  \n",
            "<class 'pandas.core.frame.DataFrame'>\n",
            "RangeIndex: 50000 entries, 0 to 49999\n",
            "Data columns (total 5 columns):\n",
            " #   Column             Non-Null Count  Dtype \n",
            "---  ------             --------------  ----- \n",
            " 0   category           50000 non-null  object\n",
            " 1   headline           50000 non-null  object\n",
            " 2   links              50000 non-null  object\n",
            " 3   short_description  50000 non-null  object\n",
            " 4   keywords           47332 non-null  object\n",
            "dtypes: object(5)\n",
            "memory usage: 1.9+ MB\n",
            "None\n",
            "shape: (50000, 5)\n",
            "\n",
            "Null values category                0\n",
            "headline                0\n",
            "links                   0\n",
            "short_description       0\n",
            "keywords             2668\n",
            "dtype: int64\n"
          ]
        }
      ]
    },
    {
      "cell_type": "markdown",
      "source": [
        "**Combine Headline and Description**"
      ],
      "metadata": {
        "id": "exIj6SxdxoU_"
      }
    },
    {
      "cell_type": "code",
      "source": [
        "# combine headline and short_description\n",
        "\n",
        "df[\"text\"] = df[\"headline\"]+\" \"+df[\"short_description\"]\n",
        "df.head()"
      ],
      "metadata": {
        "colab": {
          "base_uri": "https://localhost:8080/",
          "height": 432
        },
        "id": "Hci08QVIxsUX",
        "outputId": "2465eee1-571a-4280-ca9b-7affd0af6d9a"
      },
      "execution_count": 8,
      "outputs": [
        {
          "output_type": "execute_result",
          "data": {
            "text/plain": [
              "   category                                           headline  \\\n",
              "0  WELLNESS              143 Miles in 35 Days: Lessons Learned   \n",
              "1  WELLNESS       Talking to Yourself: Crazy or Crazy Helpful?   \n",
              "2  WELLNESS  Crenezumab: Trial Will Gauge Whether Alzheimer...   \n",
              "3  WELLNESS                     Oh, What a Difference She Made   \n",
              "4  WELLNESS                                   Green Superfoods   \n",
              "\n",
              "                                               links  \\\n",
              "0  https://www.huffingtonpost.com/entry/running-l...   \n",
              "1  https://www.huffingtonpost.com/entry/talking-t...   \n",
              "2  https://www.huffingtonpost.com/entry/crenezuma...   \n",
              "3  https://www.huffingtonpost.com/entry/meaningfu...   \n",
              "4  https://www.huffingtonpost.com/entry/green-sup...   \n",
              "\n",
              "                                   short_description  \\\n",
              "0  Resting is part of training. I've confirmed wh...   \n",
              "1  Think of talking to yourself as a tool to coac...   \n",
              "2  The clock is ticking for the United States to ...   \n",
              "3  If you want to be busy, keep trying to be perf...   \n",
              "4  First, the bad news: Soda bread, corned beef a...   \n",
              "\n",
              "                             keywords  \\\n",
              "0                     running-lessons   \n",
              "1           talking-to-yourself-crazy   \n",
              "2  crenezumab-alzheimers-disease-drug   \n",
              "3                     meaningful-life   \n",
              "4                    green-superfoods   \n",
              "\n",
              "                                                text  \n",
              "0  143 Miles in 35 Days: Lessons Learned Resting ...  \n",
              "1  Talking to Yourself: Crazy or Crazy Helpful? T...  \n",
              "2  Crenezumab: Trial Will Gauge Whether Alzheimer...  \n",
              "3  Oh, What a Difference She Made If you want to ...  \n",
              "4  Green Superfoods First, the bad news: Soda bre...  "
            ],
            "text/html": [
              "\n",
              "  <div id=\"df-c569a65e-26c1-4de4-a924-a70df8f9d1d1\" class=\"colab-df-container\">\n",
              "    <div>\n",
              "<style scoped>\n",
              "    .dataframe tbody tr th:only-of-type {\n",
              "        vertical-align: middle;\n",
              "    }\n",
              "\n",
              "    .dataframe tbody tr th {\n",
              "        vertical-align: top;\n",
              "    }\n",
              "\n",
              "    .dataframe thead th {\n",
              "        text-align: right;\n",
              "    }\n",
              "</style>\n",
              "<table border=\"1\" class=\"dataframe\">\n",
              "  <thead>\n",
              "    <tr style=\"text-align: right;\">\n",
              "      <th></th>\n",
              "      <th>category</th>\n",
              "      <th>headline</th>\n",
              "      <th>links</th>\n",
              "      <th>short_description</th>\n",
              "      <th>keywords</th>\n",
              "      <th>text</th>\n",
              "    </tr>\n",
              "  </thead>\n",
              "  <tbody>\n",
              "    <tr>\n",
              "      <th>0</th>\n",
              "      <td>WELLNESS</td>\n",
              "      <td>143 Miles in 35 Days: Lessons Learned</td>\n",
              "      <td>https://www.huffingtonpost.com/entry/running-l...</td>\n",
              "      <td>Resting is part of training. I've confirmed wh...</td>\n",
              "      <td>running-lessons</td>\n",
              "      <td>143 Miles in 35 Days: Lessons Learned Resting ...</td>\n",
              "    </tr>\n",
              "    <tr>\n",
              "      <th>1</th>\n",
              "      <td>WELLNESS</td>\n",
              "      <td>Talking to Yourself: Crazy or Crazy Helpful?</td>\n",
              "      <td>https://www.huffingtonpost.com/entry/talking-t...</td>\n",
              "      <td>Think of talking to yourself as a tool to coac...</td>\n",
              "      <td>talking-to-yourself-crazy</td>\n",
              "      <td>Talking to Yourself: Crazy or Crazy Helpful? T...</td>\n",
              "    </tr>\n",
              "    <tr>\n",
              "      <th>2</th>\n",
              "      <td>WELLNESS</td>\n",
              "      <td>Crenezumab: Trial Will Gauge Whether Alzheimer...</td>\n",
              "      <td>https://www.huffingtonpost.com/entry/crenezuma...</td>\n",
              "      <td>The clock is ticking for the United States to ...</td>\n",
              "      <td>crenezumab-alzheimers-disease-drug</td>\n",
              "      <td>Crenezumab: Trial Will Gauge Whether Alzheimer...</td>\n",
              "    </tr>\n",
              "    <tr>\n",
              "      <th>3</th>\n",
              "      <td>WELLNESS</td>\n",
              "      <td>Oh, What a Difference She Made</td>\n",
              "      <td>https://www.huffingtonpost.com/entry/meaningfu...</td>\n",
              "      <td>If you want to be busy, keep trying to be perf...</td>\n",
              "      <td>meaningful-life</td>\n",
              "      <td>Oh, What a Difference She Made If you want to ...</td>\n",
              "    </tr>\n",
              "    <tr>\n",
              "      <th>4</th>\n",
              "      <td>WELLNESS</td>\n",
              "      <td>Green Superfoods</td>\n",
              "      <td>https://www.huffingtonpost.com/entry/green-sup...</td>\n",
              "      <td>First, the bad news: Soda bread, corned beef a...</td>\n",
              "      <td>green-superfoods</td>\n",
              "      <td>Green Superfoods First, the bad news: Soda bre...</td>\n",
              "    </tr>\n",
              "  </tbody>\n",
              "</table>\n",
              "</div>\n",
              "    <div class=\"colab-df-buttons\">\n",
              "\n",
              "  <div class=\"colab-df-container\">\n",
              "    <button class=\"colab-df-convert\" onclick=\"convertToInteractive('df-c569a65e-26c1-4de4-a924-a70df8f9d1d1')\"\n",
              "            title=\"Convert this dataframe to an interactive table.\"\n",
              "            style=\"display:none;\">\n",
              "\n",
              "  <svg xmlns=\"http://www.w3.org/2000/svg\" height=\"24px\" viewBox=\"0 -960 960 960\">\n",
              "    <path d=\"M120-120v-720h720v720H120Zm60-500h600v-160H180v160Zm220 220h160v-160H400v160Zm0 220h160v-160H400v160ZM180-400h160v-160H180v160Zm440 0h160v-160H620v160ZM180-180h160v-160H180v160Zm440 0h160v-160H620v160Z\"/>\n",
              "  </svg>\n",
              "    </button>\n",
              "\n",
              "  <style>\n",
              "    .colab-df-container {\n",
              "      display:flex;\n",
              "      gap: 12px;\n",
              "    }\n",
              "\n",
              "    .colab-df-convert {\n",
              "      background-color: #E8F0FE;\n",
              "      border: none;\n",
              "      border-radius: 50%;\n",
              "      cursor: pointer;\n",
              "      display: none;\n",
              "      fill: #1967D2;\n",
              "      height: 32px;\n",
              "      padding: 0 0 0 0;\n",
              "      width: 32px;\n",
              "    }\n",
              "\n",
              "    .colab-df-convert:hover {\n",
              "      background-color: #E2EBFA;\n",
              "      box-shadow: 0px 1px 2px rgba(60, 64, 67, 0.3), 0px 1px 3px 1px rgba(60, 64, 67, 0.15);\n",
              "      fill: #174EA6;\n",
              "    }\n",
              "\n",
              "    .colab-df-buttons div {\n",
              "      margin-bottom: 4px;\n",
              "    }\n",
              "\n",
              "    [theme=dark] .colab-df-convert {\n",
              "      background-color: #3B4455;\n",
              "      fill: #D2E3FC;\n",
              "    }\n",
              "\n",
              "    [theme=dark] .colab-df-convert:hover {\n",
              "      background-color: #434B5C;\n",
              "      box-shadow: 0px 1px 3px 1px rgba(0, 0, 0, 0.15);\n",
              "      filter: drop-shadow(0px 1px 2px rgba(0, 0, 0, 0.3));\n",
              "      fill: #FFFFFF;\n",
              "    }\n",
              "  </style>\n",
              "\n",
              "    <script>\n",
              "      const buttonEl =\n",
              "        document.querySelector('#df-c569a65e-26c1-4de4-a924-a70df8f9d1d1 button.colab-df-convert');\n",
              "      buttonEl.style.display =\n",
              "        google.colab.kernel.accessAllowed ? 'block' : 'none';\n",
              "\n",
              "      async function convertToInteractive(key) {\n",
              "        const element = document.querySelector('#df-c569a65e-26c1-4de4-a924-a70df8f9d1d1');\n",
              "        const dataTable =\n",
              "          await google.colab.kernel.invokeFunction('convertToInteractive',\n",
              "                                                    [key], {});\n",
              "        if (!dataTable) return;\n",
              "\n",
              "        const docLinkHtml = 'Like what you see? Visit the ' +\n",
              "          '<a target=\"_blank\" href=https://colab.research.google.com/notebooks/data_table.ipynb>data table notebook</a>'\n",
              "          + ' to learn more about interactive tables.';\n",
              "        element.innerHTML = '';\n",
              "        dataTable['output_type'] = 'display_data';\n",
              "        await google.colab.output.renderOutput(dataTable, element);\n",
              "        const docLink = document.createElement('div');\n",
              "        docLink.innerHTML = docLinkHtml;\n",
              "        element.appendChild(docLink);\n",
              "      }\n",
              "    </script>\n",
              "  </div>\n",
              "\n",
              "\n",
              "    <div id=\"df-4f0bd283-42ee-4fc8-a059-25bc728ec5cc\">\n",
              "      <button class=\"colab-df-quickchart\" onclick=\"quickchart('df-4f0bd283-42ee-4fc8-a059-25bc728ec5cc')\"\n",
              "                title=\"Suggest charts\"\n",
              "                style=\"display:none;\">\n",
              "\n",
              "<svg xmlns=\"http://www.w3.org/2000/svg\" height=\"24px\"viewBox=\"0 0 24 24\"\n",
              "     width=\"24px\">\n",
              "    <g>\n",
              "        <path d=\"M19 3H5c-1.1 0-2 .9-2 2v14c0 1.1.9 2 2 2h14c1.1 0 2-.9 2-2V5c0-1.1-.9-2-2-2zM9 17H7v-7h2v7zm4 0h-2V7h2v10zm4 0h-2v-4h2v4z\"/>\n",
              "    </g>\n",
              "</svg>\n",
              "      </button>\n",
              "\n",
              "<style>\n",
              "  .colab-df-quickchart {\n",
              "      --bg-color: #E8F0FE;\n",
              "      --fill-color: #1967D2;\n",
              "      --hover-bg-color: #E2EBFA;\n",
              "      --hover-fill-color: #174EA6;\n",
              "      --disabled-fill-color: #AAA;\n",
              "      --disabled-bg-color: #DDD;\n",
              "  }\n",
              "\n",
              "  [theme=dark] .colab-df-quickchart {\n",
              "      --bg-color: #3B4455;\n",
              "      --fill-color: #D2E3FC;\n",
              "      --hover-bg-color: #434B5C;\n",
              "      --hover-fill-color: #FFFFFF;\n",
              "      --disabled-bg-color: #3B4455;\n",
              "      --disabled-fill-color: #666;\n",
              "  }\n",
              "\n",
              "  .colab-df-quickchart {\n",
              "    background-color: var(--bg-color);\n",
              "    border: none;\n",
              "    border-radius: 50%;\n",
              "    cursor: pointer;\n",
              "    display: none;\n",
              "    fill: var(--fill-color);\n",
              "    height: 32px;\n",
              "    padding: 0;\n",
              "    width: 32px;\n",
              "  }\n",
              "\n",
              "  .colab-df-quickchart:hover {\n",
              "    background-color: var(--hover-bg-color);\n",
              "    box-shadow: 0 1px 2px rgba(60, 64, 67, 0.3), 0 1px 3px 1px rgba(60, 64, 67, 0.15);\n",
              "    fill: var(--button-hover-fill-color);\n",
              "  }\n",
              "\n",
              "  .colab-df-quickchart-complete:disabled,\n",
              "  .colab-df-quickchart-complete:disabled:hover {\n",
              "    background-color: var(--disabled-bg-color);\n",
              "    fill: var(--disabled-fill-color);\n",
              "    box-shadow: none;\n",
              "  }\n",
              "\n",
              "  .colab-df-spinner {\n",
              "    border: 2px solid var(--fill-color);\n",
              "    border-color: transparent;\n",
              "    border-bottom-color: var(--fill-color);\n",
              "    animation:\n",
              "      spin 1s steps(1) infinite;\n",
              "  }\n",
              "\n",
              "  @keyframes spin {\n",
              "    0% {\n",
              "      border-color: transparent;\n",
              "      border-bottom-color: var(--fill-color);\n",
              "      border-left-color: var(--fill-color);\n",
              "    }\n",
              "    20% {\n",
              "      border-color: transparent;\n",
              "      border-left-color: var(--fill-color);\n",
              "      border-top-color: var(--fill-color);\n",
              "    }\n",
              "    30% {\n",
              "      border-color: transparent;\n",
              "      border-left-color: var(--fill-color);\n",
              "      border-top-color: var(--fill-color);\n",
              "      border-right-color: var(--fill-color);\n",
              "    }\n",
              "    40% {\n",
              "      border-color: transparent;\n",
              "      border-right-color: var(--fill-color);\n",
              "      border-top-color: var(--fill-color);\n",
              "    }\n",
              "    60% {\n",
              "      border-color: transparent;\n",
              "      border-right-color: var(--fill-color);\n",
              "    }\n",
              "    80% {\n",
              "      border-color: transparent;\n",
              "      border-right-color: var(--fill-color);\n",
              "      border-bottom-color: var(--fill-color);\n",
              "    }\n",
              "    90% {\n",
              "      border-color: transparent;\n",
              "      border-bottom-color: var(--fill-color);\n",
              "    }\n",
              "  }\n",
              "</style>\n",
              "\n",
              "      <script>\n",
              "        async function quickchart(key) {\n",
              "          const quickchartButtonEl =\n",
              "            document.querySelector('#' + key + ' button');\n",
              "          quickchartButtonEl.disabled = true;  // To prevent multiple clicks.\n",
              "          quickchartButtonEl.classList.add('colab-df-spinner');\n",
              "          try {\n",
              "            const charts = await google.colab.kernel.invokeFunction(\n",
              "                'suggestCharts', [key], {});\n",
              "          } catch (error) {\n",
              "            console.error('Error during call to suggestCharts:', error);\n",
              "          }\n",
              "          quickchartButtonEl.classList.remove('colab-df-spinner');\n",
              "          quickchartButtonEl.classList.add('colab-df-quickchart-complete');\n",
              "        }\n",
              "        (() => {\n",
              "          let quickchartButtonEl =\n",
              "            document.querySelector('#df-4f0bd283-42ee-4fc8-a059-25bc728ec5cc button');\n",
              "          quickchartButtonEl.style.display =\n",
              "            google.colab.kernel.accessAllowed ? 'block' : 'none';\n",
              "        })();\n",
              "      </script>\n",
              "    </div>\n",
              "\n",
              "    </div>\n",
              "  </div>\n"
            ],
            "application/vnd.google.colaboratory.intrinsic+json": {
              "type": "dataframe",
              "variable_name": "df",
              "summary": "{\n  \"name\": \"df\",\n  \"rows\": 50000,\n  \"fields\": [\n    {\n      \"column\": \"category\",\n      \"properties\": {\n        \"dtype\": \"category\",\n        \"num_unique_values\": 10,\n        \"samples\": [\n          \"BUSINESS\",\n          \"POLITICS\",\n          \"PARENTING\"\n        ],\n        \"semantic_type\": \"\",\n        \"description\": \"\"\n      }\n    },\n    {\n      \"column\": \"headline\",\n      \"properties\": {\n        \"dtype\": \"string\",\n        \"num_unique_values\": 45577,\n        \"samples\": [\n          \"These Artists Tried 'Erasing' Parts Of The U.S.-Mexico Border Fence\",\n          \"Bugaboo Stroller Recall: Thousands Of Cameleon3 Strollers Recalled Due To Fall Hazard\",\n          \"Airline Employee's Singing Tribute To Veteran Will Give You Chills\"\n        ],\n        \"semantic_type\": \"\",\n        \"description\": \"\"\n      }\n    },\n    {\n      \"column\": \"links\",\n      \"properties\": {\n        \"dtype\": \"string\",\n        \"num_unique_values\": 45745,\n        \"samples\": [\n          \"https://www.huffingtonpost.com/entry/tommy-tuberville-dan-patrick-texas-tech_us_5bb6c738e4b097869fd2c796\",\n          \"https://www.huffingtonpost.com/entry/relaxing-in-texas_us_5b9bdd83e4b03a1dcc7ad455\",\n          \"https://www.huffingtonpost.com/entry/the-bachelor-top-hotel-deals_us_5b9b79cee4b03a1dcc77e70c\"\n        ],\n        \"semantic_type\": \"\",\n        \"description\": \"\"\n      }\n    },\n    {\n      \"column\": \"short_description\",\n      \"properties\": {\n        \"dtype\": \"string\",\n        \"num_unique_values\": 45743,\n        \"samples\": [\n          \"Check out the two covers below. Do you think the pic was one worth repeating? IO Donna: Jennifer Lawrence (you might have\",\n          \"Oh you individually wrapped your tacos in twine? They look delicious!\",\n          \"The drama is called \\\"Perfect Citizen.\\\"\"\n        ],\n        \"semantic_type\": \"\",\n        \"description\": \"\"\n      }\n    },\n    {\n      \"column\": \"keywords\",\n      \"properties\": {\n        \"dtype\": \"string\",\n        \"num_unique_values\": 41558,\n        \"samples\": [\n          \"typhoon-chan-hom-china\",\n          \"mj-ryan-gps-guide\",\n          \"white-house-takes-big-step-towards-halting-arctic-drilling\"\n        ],\n        \"semantic_type\": \"\",\n        \"description\": \"\"\n      }\n    },\n    {\n      \"column\": \"text\",\n      \"properties\": {\n        \"dtype\": \"string\",\n        \"num_unique_values\": 45749,\n        \"samples\": [\n          \"Pandora's Lunchbox': New Book Reveals How Processed Food Took Over The American Meal In the same vein, a new book, Pandora's Lunchbox: How Processed Foods Took Over the American Meal, debuts on Feb. 26. Written\",\n          \"Taming Hatred With Insight I suspect this is true not just of hatred, but also of all mental afflictions. If we are able to clearly perceive the nature\",\n          \"Weekly Roundup of eBay Vintage Jewelry Finds To receive the eBay Roundup of Vintage Jewelry Finds via email, along with exclusive BONUS Roundups, sign up for Zuburbia's\"\n        ],\n        \"semantic_type\": \"\",\n        \"description\": \"\"\n      }\n    }\n  ]\n}"
            }
          },
          "metadata": {},
          "execution_count": 8
        }
      ]
    },
    {
      "cell_type": "markdown",
      "source": [
        "**Clean Text:**"
      ],
      "metadata": {
        "id": "11NztoUax9YY"
      }
    },
    {
      "cell_type": "code",
      "source": [
        "def clean_text(text):\n",
        "  text = str(text).lower()\n",
        "  text = re.sub(r\"[^a-z\\s]\",\"\",text)\n",
        "  return text\n",
        "\n",
        "#apply clean_text function on Dataset\n",
        "\n",
        "df[\"clean_text\"] = df[\"text\"].apply(clean_text)\n",
        "\n",
        "print(df[[\"headline\",\"short_description\",\"clean_text\"]].head())\n",
        "\n"
      ],
      "metadata": {
        "colab": {
          "base_uri": "https://localhost:8080/",
          "height": 0
        },
        "id": "i-XjcL_ex811",
        "outputId": "10feb12f-66f6-4b50-b7af-a75b804848b7"
      },
      "execution_count": 9,
      "outputs": [
        {
          "output_type": "stream",
          "name": "stdout",
          "text": [
            "                                            headline  \\\n",
            "0              143 Miles in 35 Days: Lessons Learned   \n",
            "1       Talking to Yourself: Crazy or Crazy Helpful?   \n",
            "2  Crenezumab: Trial Will Gauge Whether Alzheimer...   \n",
            "3                     Oh, What a Difference She Made   \n",
            "4                                   Green Superfoods   \n",
            "\n",
            "                                   short_description  \\\n",
            "0  Resting is part of training. I've confirmed wh...   \n",
            "1  Think of talking to yourself as a tool to coac...   \n",
            "2  The clock is ticking for the United States to ...   \n",
            "3  If you want to be busy, keep trying to be perf...   \n",
            "4  First, the bad news: Soda bread, corned beef a...   \n",
            "\n",
            "                                          clean_text  \n",
            "0   miles in  days lessons learned resting is par...  \n",
            "1  talking to yourself crazy or crazy helpful thi...  \n",
            "2  crenezumab trial will gauge whether alzheimers...  \n",
            "3  oh what a difference she made if you want to b...  \n",
            "4  green superfoods first the bad news soda bread...  \n"
          ]
        }
      ]
    },
    {
      "cell_type": "markdown",
      "source": [
        "**Explore Cateogries**"
      ],
      "metadata": {
        "id": "a4bUE6LB0NRG"
      }
    },
    {
      "cell_type": "code",
      "source": [
        "sns.countplot(y=\"category\",data=df,order=df[\"category\"].value_counts().index)\n",
        "\n",
        "plt.title(\"Distribution of Article Categories\")\n",
        "\n",
        "plt.show()"
      ],
      "metadata": {
        "colab": {
          "base_uri": "https://localhost:8080/",
          "height": 472
        },
        "id": "NohuE60i0PoV",
        "outputId": "66545c07-3904-41df-c2f5-0028d27f9cd3"
      },
      "execution_count": 10,
      "outputs": [
        {
          "output_type": "display_data",
          "data": {
            "text/plain": [
              "<Figure size 640x480 with 1 Axes>"
            ],
            "image/png": "[encoded data removed]"
          },
          "metadata": {}
        }
      ]
    },
    {
      "cell_type": "markdown",
      "source": [
        "**TF-IDF Vectorization**"
      ],
      "metadata": {
        "id": "YiF_REDF1MdV"
      }
    },
    {
      "cell_type": "code",
      "source": [
        "vectorizer = TfidfVectorizer(max_features=5000)\n",
        "\n",
        "x = vectorizer.fit_transform(df[\"clean_text\"])\n",
        "\n",
        "y = df[\"category\"]\n",
        "\n",
        "print(\"Shape of IF-IDF matrix:\",x.shape)"
      ],
      "metadata": {
        "colab": {
          "base_uri": "https://localhost:8080/",
          "height": 0
        },
        "id": "EwnLy46N1RZ0",
        "outputId": "83c229d2-a1e9-4edd-b2d4-57cce12e17a2"
      },
      "execution_count": 11,
      "outputs": [
        {
          "output_type": "stream",
          "name": "stdout",
          "text": [
            "Shape of IF-IDF matrix: (50000, 5000)\n"
          ]
        }
      ]
    },
    {
      "cell_type": "code",
      "source": [
        "# Train - Test Split\n",
        "\n",
        "x_train,x_test,y_train,y_test = train_test_split(x,y,test_size=0.21,random_state=42)\n",
        "\n"
      ],
      "metadata": {
        "id": "ikLOu_HP1tV4"
      },
      "execution_count": 12,
      "outputs": []
    },
    {
      "cell_type": "markdown",
      "source": [
        "**Train Models**\n"
      ],
      "metadata": {
        "id": "JzzH05B22qpU"
      }
    },
    {
      "cell_type": "markdown",
      "source": [
        "**Logistic Regression**"
      ],
      "metadata": {
        "id": "5BNpFXap2-De"
      }
    },
    {
      "cell_type": "code",
      "source": [
        "lr = LogisticRegression(max_iter=1000)\n",
        "\n",
        "lr.fit(x_train,y_train)\n",
        "y_pred_lr =lr.predict(x_test)\n",
        "\n",
        "print(\"Logistic Regression\")\n",
        "print(classification_report(y_test,y_pred_lr))"
      ],
      "metadata": {
        "colab": {
          "base_uri": "https://localhost:8080/",
          "height": 0
        },
        "id": "PL38v62E25h_",
        "outputId": "d93bc210-64ef-4975-cf60-bb2257471791"
      },
      "execution_count": 13,
      "outputs": [
        {
          "output_type": "stream",
          "name": "stdout",
          "text": [
            "Logistic Regression\n",
            "                precision    recall  f1-score   support\n",
            "\n",
            "      BUSINESS       0.73      0.78      0.75      1012\n",
            " ENTERTAINMENT       0.77      0.77      0.77      1033\n",
            "  FOOD & DRINK       0.86      0.83      0.85      1069\n",
            "     PARENTING       0.78      0.76      0.77      1071\n",
            "      POLITICS       0.78      0.74      0.76      1085\n",
            "        SPORTS       0.84      0.87      0.85      1038\n",
            "STYLE & BEAUTY       0.87      0.82      0.84      1032\n",
            "        TRAVEL       0.80      0.79      0.79      1065\n",
            "      WELLNESS       0.72      0.76      0.74      1065\n",
            "    WORLD NEWS       0.78      0.79      0.79      1030\n",
            "\n",
            "      accuracy                           0.79     10500\n",
            "     macro avg       0.79      0.79      0.79     10500\n",
            "  weighted avg       0.79      0.79      0.79     10500\n",
            "\n"
          ]
        }
      ]
    },
    {
      "cell_type": "markdown",
      "source": [
        "**Naive Bayes**"
      ],
      "metadata": {
        "id": "0WGw-JfF31do"
      }
    },
    {
      "cell_type": "code",
      "source": [
        "nb = MultinomialNB()\n",
        "\n",
        "nb.fit(x_train,y_train)\n",
        "\n",
        "y_pred_nb = nb.predict(x_test)\n",
        "\n",
        "print(\"Naive Bayes\")\n",
        "print(classification_report(y_test,y_pred_nb))\n"
      ],
      "metadata": {
        "colab": {
          "base_uri": "https://localhost:8080/",
          "height": 0
        },
        "id": "hy0A1u9434JW",
        "outputId": "07528d9a-7d2f-4482-c5e0-31e0b5b55760"
      },
      "execution_count": 14,
      "outputs": [
        {
          "output_type": "stream",
          "name": "stdout",
          "text": [
            "Naive Bayes\n",
            "                precision    recall  f1-score   support\n",
            "\n",
            "      BUSINESS       0.74      0.70      0.72      1012\n",
            " ENTERTAINMENT       0.78      0.73      0.76      1033\n",
            "  FOOD & DRINK       0.83      0.83      0.83      1069\n",
            "     PARENTING       0.65      0.75      0.70      1071\n",
            "      POLITICS       0.78      0.72      0.75      1085\n",
            "        SPORTS       0.88      0.84      0.86      1038\n",
            "STYLE & BEAUTY       0.84      0.81      0.82      1032\n",
            "        TRAVEL       0.77      0.78      0.78      1065\n",
            "      WELLNESS       0.68      0.75      0.71      1065\n",
            "    WORLD NEWS       0.78      0.78      0.78      1030\n",
            "\n",
            "      accuracy                           0.77     10500\n",
            "     macro avg       0.77      0.77      0.77     10500\n",
            "  weighted avg       0.77      0.77      0.77     10500\n",
            "\n"
          ]
        }
      ]
    },
    {
      "cell_type": "markdown",
      "source": [
        "**SVM**"
      ],
      "metadata": {
        "id": "t7tFWybf4v6z"
      }
    },
    {
      "cell_type": "code",
      "source": [
        "svm = LinearSVC()\n",
        "\n",
        "svm.fit(x_train,y_train)\n",
        "\n",
        "y_pred_svm = svm.predict(x_test)\n",
        "\n",
        "print(\"SVM\")\n",
        "print(classification_report(y_test,y_pred_svm))"
      ],
      "metadata": {
        "colab": {
          "base_uri": "https://localhost:8080/",
          "height": 0
        },
        "id": "iEms6Qy74vU4",
        "outputId": "6fee9058-498b-4c31-e5e2-00b72b0ac3f5"
      },
      "execution_count": 15,
      "outputs": [
        {
          "output_type": "stream",
          "name": "stdout",
          "text": [
            "SVM\n",
            "                precision    recall  f1-score   support\n",
            "\n",
            "      BUSINESS       0.74      0.80      0.77      1012\n",
            " ENTERTAINMENT       0.78      0.75      0.77      1033\n",
            "  FOOD & DRINK       0.83      0.84      0.84      1069\n",
            "     PARENTING       0.79      0.75      0.77      1071\n",
            "      POLITICS       0.77      0.72      0.75      1085\n",
            "        SPORTS       0.86      0.91      0.88      1038\n",
            "STYLE & BEAUTY       0.85      0.84      0.85      1032\n",
            "        TRAVEL       0.78      0.80      0.79      1065\n",
            "      WELLNESS       0.73      0.74      0.74      1065\n",
            "    WORLD NEWS       0.77      0.78      0.77      1030\n",
            "\n",
            "      accuracy                           0.79     10500\n",
            "     macro avg       0.79      0.79      0.79     10500\n",
            "  weighted avg       0.79      0.79      0.79     10500\n",
            "\n"
          ]
        }
      ]
    },
    {
      "cell_type": "code",
      "source": [
        "joblib.dump(lr, \"news_classifier.pkl\")\n",
        "joblib.dump(vectorizer, \"tfidf_vectorizer.pkl\")\n",
        "\n",
        "print(\"Model and vectorizer saved.\")\n"
      ],
      "metadata": {
        "colab": {
          "base_uri": "https://localhost:8080/",
          "height": 0
        },
        "id": "mdzfWTqo6OY8",
        "outputId": "01bcfb17-7ff1-4cce-9559-fb1d3fe10691"
      },
      "execution_count": 24,
      "outputs": [
        {
          "output_type": "stream",
          "name": "stdout",
          "text": [
            "Model and vectorizer saved.\n"
          ]
        }
      ]
    },
    {
      "cell_type": "code",
      "source": [
        "# Load saved model\n",
        "loaded_model = joblib.load(\"news_classifier.pkl\")\n",
        "loaded_vectorizer = joblib.load(\"tfidf_vectorizer.pkl\")\n",
        "\n",
        "# New headline + description\n",
        "new_headline = \"NASA launches new satellite to study climate change\"\n",
        "new_desc = \"The mission will help collect data on Earth's atmosphere and weather patterns.\"\n",
        "\n",
        "# Combine and clean\n",
        "new_text = new_headline + \" \" + new_desc\n",
        "cleaned = clean_text(new_text)\n",
        "X_new = loaded_vectorizer.transform([cleaned])\n",
        "prediction = loaded_model.predict(X_new)\n",
        "\n",
        "print(\"Predicted category:\", prediction[0])"
      ],
      "metadata": {
        "colab": {
          "base_uri": "https://localhost:8080/",
          "height": 0
        },
        "id": "1MxOT4Nz6Pew",
        "outputId": "5b69f7d2-b843-4d80-dbe0-f7bd31b0493d"
      },
      "execution_count": 25,
      "outputs": [
        {
          "output_type": "stream",
          "name": "stdout",
          "text": [
            "Predicted category: POLITICS\n"
          ]
        }
      ]
    }
  ]
}